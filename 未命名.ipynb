{
 "cells": [
  {
   "cell_type": "markdown",
   "id": "7e9f08b1",
   "metadata": {},
   "source": [
    "# Move MM\n",
    "## 挂单价格\n",
    "$move = Put_{K_1} + Call_{K_2}$  \n",
    "where $ K_1 < K_2$  \n",
    "\n",
    "\n",
    "### 买卖单报价\n",
    "$ Ask_m = \\frac{|P_m - P_p|}{P_m} * Ask_p + \\frac{|P_m - P_c|}{P_m} * Ask_c$  \n",
    "\n",
    "$ Bid_m = \\frac{|P_m - P_p|}{P_m} * Bid_p + \\frac{|P_m - P_c|}{P_m} * Bid_c$  \n",
    "\n",
    "### 实际买卖单报价\n",
    "$actual_Ask_m = Ask_m + 偏离$\n",
    "\n",
    "## 挂单数量\n"
   ]
  },
  {
   "cell_type": "code",
   "execution_count": null,
   "id": "fe28e92a",
   "metadata": {},
   "outputs": [],
   "source": []
  }
 ],
 "metadata": {
  "kernelspec": {
   "display_name": "Python 3 (ipykernel)",
   "language": "python",
   "name": "python3"
  },
  "language_info": {
   "codemirror_mode": {
    "name": "ipython",
    "version": 3
   },
   "file_extension": ".py",
   "mimetype": "text/x-python",
   "name": "python",
   "nbconvert_exporter": "python",
   "pygments_lexer": "ipython3",
   "version": "3.9.7"
  }
 },
 "nbformat": 4,
 "nbformat_minor": 5
}
