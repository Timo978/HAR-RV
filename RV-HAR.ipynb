{
 "cells": [
  {
   "cell_type": "code",
   "execution_count": 2,
   "id": "75092f43",
   "metadata": {},
   "outputs": [],
   "source": [
    "import numpy as np\n",
    "import pandas as pd\n",
    "import datetime\n",
    "from pandas_datareader import data\n",
    "import matplotlib.pyplot as plt"
   ]
  },
  {
   "cell_type": "code",
   "execution_count": 10,
   "id": "abc08402",
   "metadata": {},
   "outputs": [],
   "source": [
    "start = datetime.datetime(2017,1,1)#获取数据的时间段-起始时间\n",
    "end = datetime.date.today()#获取数据的时间段-结束时间\n",
    "df = data.get_data_yahoo(['BTC-USD'], start=start, end=end)"
   ]
  },
  {
   "cell_type": "markdown",
   "id": "b816183a",
   "metadata": {},
   "source": [
    "# Calculate RV\n",
    "## 如果是tick或min_bar:  \n",
    "$RV_{daily} = \\sum{\\ln({\\frac{close_t}{close_{t-1}}})}$  \n",
    "$RV_{annulized} = RV_{daily} * \\sqrt{365}$  \n",
    "\n",
    "## 如果是daily_data:\n",
    "1. 先计算log return  \n",
    "$ return_{log} = \\ln({\\frac{close_t}{close_{t-1}}})$  \n",
    "\n",
    "\n",
    "2. 计算滚动RV  \n",
    "$RV_n = return_{log}.rolling(n).std() * \\sqrt{365}$\n"
   ]
  },
  {
   "cell_type": "code",
   "execution_count": 11,
   "id": "2e80fa0a",
   "metadata": {},
   "outputs": [],
   "source": [
    "df['log_ret'] = np.log(df['Close']/df['Close'].shift())\n",
    "df['rv_5'] = df['log_ret'].rolling(5).std() * np.sqrt(365)\n",
    "df['rv_20'] = df['log_ret'].rolling(20).std() * np.sqrt(365)"
   ]
  },
  {
   "cell_type": "code",
   "execution_count": 12,
   "id": "fdffaf18",
   "metadata": {},
   "outputs": [
    {
     "data": {
      "text/plain": [
       "Date\n",
       "2016-12-31         NaN\n",
       "2017-01-01         NaN\n",
       "2017-01-02         NaN\n",
       "2017-01-03         NaN\n",
       "2017-01-04         NaN\n",
       "                ...   \n",
       "2022-07-16    0.517666\n",
       "2022-07-17    0.521199\n",
       "2022-07-18    0.609606\n",
       "2022-07-19    0.623061\n",
       "2022-07-20    0.614786\n",
       "Name: rv_20, Length: 2028, dtype: float64"
      ]
     },
     "execution_count": 12,
     "metadata": {},
     "output_type": "execute_result"
    }
   ],
   "source": [
    "df['rv_20']"
   ]
  },
  {
   "cell_type": "code",
   "execution_count": 13,
   "id": "af7fb429",
   "metadata": {},
   "outputs": [
    {
     "data": {
      "text/plain": [
       "Date\n",
       "2016-12-31         NaN\n",
       "2017-01-01         NaN\n",
       "2017-01-02         NaN\n",
       "2017-01-03         NaN\n",
       "2017-01-04         NaN\n",
       "                ...   \n",
       "2022-07-16    0.536743\n",
       "2022-07-17    0.438338\n",
       "2022-07-18    0.681956\n",
       "2022-07-19    0.696345\n",
       "2022-07-20    0.722002\n",
       "Name: rv_5, Length: 2028, dtype: float64"
      ]
     },
     "execution_count": 13,
     "metadata": {},
     "output_type": "execute_result"
    }
   ],
   "source": [
    "df['rv_5']"
   ]
  },
  {
   "cell_type": "code",
   "execution_count": null,
   "id": "fab10195",
   "metadata": {},
   "outputs": [],
   "source": []
  }
 ],
 "metadata": {
  "kernelspec": {
   "display_name": "Python 3 (ipykernel)",
   "language": "python",
   "name": "python3"
  },
  "language_info": {
   "codemirror_mode": {
    "name": "ipython",
    "version": 3
   },
   "file_extension": ".py",
   "mimetype": "text/x-python",
   "name": "python",
   "nbconvert_exporter": "python",
   "pygments_lexer": "ipython3",
   "version": "3.9.7"
  }
 },
 "nbformat": 4,
 "nbformat_minor": 5
}
